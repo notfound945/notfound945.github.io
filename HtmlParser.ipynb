{
 "metadata": {
  "language_info": {
   "codemirror_mode": {
    "name": "ipython",
    "version": 3
   },
   "file_extension": ".py",
   "mimetype": "text/x-python",
   "name": "python",
   "nbconvert_exporter": "python",
   "pygments_lexer": "ipython3",
   "version": "3.9.0-final"
  },
  "orig_nbformat": 2,
  "kernelspec": {
   "name": "python3",
   "display_name": "Python 3.9.0 64-bit",
   "metadata": {
    "interpreter": {
     "hash": "63fd5069d213b44bf678585dea6b12cceca9941eaf7f819626cde1f2670de90d"
    }
   }
  }
 },
 "nbformat": 4,
 "nbformat_minor": 2,
 "cells": [
  {
   "cell_type": "code",
   "execution_count": 2,
   "metadata": {},
   "outputs": [],
   "source": [
    "from bs4 import BeautifulSoup"
   ]
  },
  {
   "cell_type": "code",
   "execution_count": 3,
   "metadata": {},
   "outputs": [],
   "source": [
    "html = \"\"\"\n",
    "\n",
    "        <ul>\n",
    "          <!------>\n",
    "            <li class=\"title\"><svg class=\"icon\" aria-hidden=\"true\"><use xlink:href=\"#icon-shipin\"></use></svg> 视频媒体</li>\n",
    "            <li><a rel=\"nofollow\" href=\"https://www.youtube.com/\" target=\"_blank\"><svg class=\"icon\" aria-hidden=\"true\"><use xlink:href=\"#icon-youtube\"></use>\n",
    "</svg> Youtube</a></li>\n",
    "            <li><a rel=\"nofollow\" href=\"https://v.qq.com/\" target=\"_blank\"><svg class=\"icon\" aria-hidden=\"true\"><use xlink:href=\"#icon-tengxunshipin\"></use></svg>腾讯视频</a></li>\n",
    "            <li><a rel=\"nofollow\" href=\"https://www.youku.com/\" target=\"_blank\"><svg class=\"icon\" aria-hidden=\"true\"><use xlink:href=\"#icon-youku\"></use></svg>优酷</a></li>\n",
    "            <li><a rel=\"nofollow\" href=\"https://www.iqiyi.com/\" target=\"_blank\"><svg class=\"icon\" aria-hidden=\"true\"><use xlink:href=\"#icon-aiqiyi\"></use></svg>爱奇艺</a></li>\n",
    "            <li><a rel=\"nofollow\" href=\"http://www.zmz2019.com/\" target=\"_blank\"><svg class=\"icon\" aria-hidden=\"true\"><use xlink:href=\"#icon-zimu\"></use></svg>字幕组</a></li>\n",
    "            <li><a rel=\"nofollow\" href=\"http://www.acfun.cn/index.html\" target=\"_blank\"><svg class=\"icon\" aria-hidden=\"true\"><use xlink:href=\"#icon-acfun\"></use></svg>ACFUN</a></li>\n",
    "            <li><a rel=\"nofollow\" href=\"https://www.bilibili.com/\" target=\"_blank\"><svg class=\"icon\" aria-hidden=\"true\"><use xlink:href=\"#icon-bili\"></use></svg>哔哩哔哩</a></li>\n",
    "          <!------> \n",
    "            <li class=\"title\"><svg class=\"icon\" aria-hidden=\"true\"><use xlink:href=\"#icon-youxiang\"></use></svg> 邮箱</li>\n",
    "            <li><a rel=\"nofollow\" href=\"https://mail.google.com/mail/u/0/#inbox\" target=\"_blank\"><svg class=\"icon\" aria-hidden=\"true\"><use xlink:href=\"#icon-gmail\"></use></svg>Gmail</a></li>\n",
    "            <li><a rel=\"nofollow\" href=\"https://outlook.live.com/mail/\" target=\"_blank\"><svg class=\"icon\" aria-hidden=\"true\"><use xlink:href=\"#icon-windows\"></use></svg>Hotmail</a></li>\n",
    "            <li><a rel=\"nofollow\" href=\"https://mail.163.com/\" target=\"_blank\"><svg class=\"icon\" aria-hidden=\"true\"><use xlink:href=\"#icon-wangyi\"></use></svg>网易邮箱</a></li>\n",
    "            <li><a rel=\"nofollow\" href=\"https://mail.sina.com.cn/\" target=\"_blank\"><svg class=\"icon\" aria-hidden=\"true\"><use xlink:href=\"#icon-xinlangwang\"></use></svg>新浪邮箱</a></li>\n",
    "            <li><a rel=\"nofollow\" href=\"https://mail.qq.com/\" target=\"_blank\"><svg class=\"icon\" aria-hidden=\"true\"><use xlink:href=\"#icon-QQ\"></use></svg>QQ邮箱</a></li>\n",
    "            <li><a rel=\"nofollow\" href=\"https://qiye.aliyun.com/\" target=\"_blank\"><svg class=\"icon\" aria-hidden=\"true\"><use xlink:href=\"#icon-yunyouxiang\"></use></svg>阿里邮箱</a></li>\n",
    "          <!------>\n",
    "            <li class=\"title\"><svg class=\"icon\" aria-hidden=\"true\"><use xlink:href=\"#icon-msg\"></use></svg> 社交资讯</li>\n",
    "            <li><a rel=\"nofollow\" href=\"https://www.weibo.com\" target=\"_blank\"><svg class=\"icon\" aria-hidden=\"true\"><use xlink:href=\"#icon-weibo\"></use></svg>微博</a></li>\n",
    "            <li><a rel=\"nofollow\" href=\"https://www.zhihu.com/\" target=\"_blank\"><svg class=\"icon\" aria-hidden=\"true\"><use xlink:href=\"#icon-zhihu\"></use></svg>知乎</a></li>\n",
    "            <li><a rel=\"nofollow\" href=\"https://www.douban.com/\" target=\"_blank\"><svg class=\"icon\" aria-hidden=\"true\"><use xlink:href=\"#icon-douban\"></use></svg>豆瓣</a></li>\n",
    "            <li><a rel=\"nofollow\" href=\"https://www.jianshu.com/\" target=\"_blank\"><svg class=\"icon\" aria-hidden=\"true\"><use xlink:href=\"#icon-jianshu\"></use></svg>简书</a></li>\n",
    "            <li><a rel=\"nofollow\" href=\"https://www.v2ex.com/\" target=\"_blank\"><svg class=\"icon\" aria-hidden=\"true\"><use xlink:href=\"#icon-v2ex\"></use></svg>V2EX</a></li>\n",
    "            <li><a rel=\"nofollow\" href=\"https://www.instagram.com\" target=\"_blank\"><svg class=\"icon\" aria-hidden=\"true\"><use xlink:href=\"#icon-instagram\"></use></svg>Instagram</a></li>\n",
    "            <li><a rel=\"nofollow\" href=\"https://www.twitter.com\" target=\"_blank\"><svg class=\"icon\" aria-hidden=\"true\"><use xlink:href=\"#icon-twitter\"></use></svg>Twitter</a></li>\n",
    "            <li><a rel=\"nofollow\" href=\"https://www.facebook.com\" target=\"_blank\"><svg class=\"icon\" aria-hidden=\"true\"><use xlink:href=\"#icon-facebook\"></use></svg>Facebook</a></li>\n",
    "          <!------>\n",
    "            <li class=\"title\"><svg class=\"icon\" aria-hidden=\"true\"><use xlink:href=\"#icon-gouwuche\"></use></svg> 购物</li>\n",
    "            <li><a rel=\"nofollow\" href=\"https://www.taobao.com\" target=\"_blank\"><svg class=\"icon\" aria-hidden=\"true\"><use xlink:href=\"#icon-taobao\"></use></svg>淘宝网</a></li>\n",
    "            <li><a rel=\"nofollow\" href=\"https://dyartstyle.com/juhuasuan/\" target=\"_blank\"><svg class=\"icon\" aria-hidden=\"true\"><use xlink:href=\"#icon-juhuasuan\"></use></svg>聚划算</a></li>\n",
    "            <li><a rel=\"nofollow\" href=\"https://dyartstyle.com/temai/\" target=\"_blank\"><svg class=\"icon\" aria-hidden=\"true\"><use xlink:href=\"#icon-temai\"></use></svg>淘宝特卖</a></li>\n",
    "            <li><a rel=\"nofollow\" href=\"https://mobile.yangkeduo.com/duo_cms_mall.html?pid=8742514_71211367&cpsSign=CM_190605_8742514_71211367_92fdd9f7fb637fec599bf556f263ed1f&duoduo_type=2&launch_wx=1\" title=\"拼多多手机端专属商城，超低价商品火热抢购中，更有超多大额优惠券持续发放，一键立抢>>\" target=\"_blank\"><svg class=\"icon\" aria-hidden=\"true\"><use xlink:href=\"#icon-99\"></use></svg>拼多多</a></li>\n",
    "            <li><a rel=\"nofollow\" href=\"https://www.jd.com\" target=\"_blank\"><svg class=\"icon\" aria-hidden=\"true\"><use xlink:href=\"#icon-jingdong\"></use></svg>京东</a></li>\n",
    "            <li><a rel=\"nofollow\" href=\"https://www.suning.com/\" target=\"_blank\"><svg class=\"icon\" aria-hidden=\"true\"><use xlink:href=\"#icon-suning\"></use></svg>苏宁易购</a></li>\n",
    "            <li><a rel=\"nofollow\" href=\"http://you.163.com/\" target=\"_blank\"><svg class=\"icon\" aria-hidden=\"true\"><use xlink:href=\"#icon-yanxuan\"></use></svg>网易严选</a></li>\n",
    "            <li><a rel=\"nofollow\" href=\"https://www.amazon.cn/\" target=\"_blank\"><svg class=\"icon\" aria-hidden=\"true\"><use xlink:href=\"#icon-amazon\"></use></svg>亚马逊</a></li>\n",
    "            <li><a rel=\"nofollow\" href=\"http://www.dangdang.com/\" target=\"_blank\"><svg class=\"icon\" aria-hidden=\"true\"><use xlink:href=\"#icon-dangdang\"></use></svg>当当</a></li>\n",
    "            <li><a rel=\"nofollow\" href=\"https://wat.dyartstyle.com/\" target=\"_blank\"><svg class=\"icon\" aria-hidden=\"true\"><use xlink:href=\"#icon-wat\"></use></svg>吾爱淘</a></li>\n",
    "          <!------>\n",
    "            <li class=\"title\"><svg class=\"icon\" aria-hidden=\"true\"><use xlink:href=\"#icon-sheji\"></use></svg> 设计视觉</li>\n",
    "            <li><a rel=\"nofollow\" href=\"https://web.yyv.me/\" target=\"_blank\"><svg class=\"icon\" aria-hidden=\"true\"><use xlink:href=\"#icon-daohang1\"></use></svg>设计导航</a></li>\n",
    "            <li><a rel=\"nofollow\" href=\"https://www.pinterest.com/\" target=\"_blank\"><svg class=\"icon\" aria-hidden=\"true\"><use xlink:href=\"#icon-pinterest\"></use></svg>Pinterest</a></li>\n",
    "            <li><a rel=\"nofollow\" href=\"https://www.behance.net/\" target=\"_blank\"><svg class=\"icon\" aria-hidden=\"true\"><use xlink:href=\"#icon-behance\"></use></svg>Behance</a></li>\n",
    "            <li><a rel=\"nofollow\" href=\"https://www.dribbble.com/\" target=\"_blank\"><svg class=\"icon\" aria-hidden=\"true\"><use xlink:href=\"#icon-dribbble\"></use></svg>Dribbble</a></li>\n",
    "            <li><a rel=\"nofollow\" href=\"https://huaban.com/\" target=\"_blank\"><svg class=\"icon\" aria-hidden=\"true\"><use xlink:href=\"#icon-huaban\"></use></svg>花瓣</a></li>\n",
    "            <li><a rel=\"nofollow\" href=\"https://www.zcool.com.cn/\" target=\"_blank\"><svg class=\"icon\" aria-hidden=\"true\"><use xlink:href=\"#icon-zhanku\"></use></svg>站酷</a></li>\n",
    "            <li><a rel=\"nofollow\" href=\"https://www.iconfont.cn/\" target=\"_blank\"><svg class=\"icon\" aria-hidden=\"true\"><use xlink:href=\"#icon-iconfont\"></use></svg>阿里图标</a></li>\n",
    "            <li><a rel=\"nofollow\" href=\"https://www.iconfinder.com/\" target=\"_blank\"><svg class=\"icon\" aria-hidden=\"true\"><use xlink:href=\"#icon-eye\"></use></svg>IconFinder</a></li>\n",
    "            <li><a rel=\"nofollow\" href=\"https://uiiiuiii.com/\" target=\"_blank\"><svg class=\"icon\" aria-hidden=\"true\"><use xlink:href=\"#icon-jiaocheng\"></use></svg>优设教程</a></li>\n",
    "          <!------>\n",
    "            <li class=\"title\"><svg class=\"icon\" aria-hidden=\"true\"><use xlink:href=\"#icon-sousuo\"></use></svg> 搜索引擎</li>\n",
    "            <li><a rel=\"nofollow\" href=\"https://www.google.com/\" target=\"_blank\"><svg class=\"icon\" aria-hidden=\"true\"><use xlink:href=\"#icon-google\"></use></svg>Google</a></li>\n",
    "            <li><a rel=\"nofollow\" href=\"https://duckduckgo.com/\" target=\"_blank\"><svg class=\"icon\" aria-hidden=\"true\"><use xlink:href=\"#icon-duck\"></use></svg>DuckGo</a></li>\n",
    "            <li><a rel=\"nofollow\" href=\"https://www.bing.com/\" target=\"_blank\"><svg class=\"icon\" aria-hidden=\"true\"><use xlink:href=\"#icon-bing\"></use></svg>Bing</a></li>\n",
    "            <li><a rel=\"nofollow\" href=\"https:/m.baidu.com/?pu=sz%401321_480&wpo=btmfast\" target=\"_blank\"><svg class=\"icon\" aria-hidden=\"true\"><use xlink:href=\"#icon-icon_baidulogo\"></use></svg>百度</a></li>\n",
    "            <li><a rel=\"nofollow\" href=\"https://hk.yahoo.com/\" target=\"_blank\"><svg class=\"icon\" aria-hidden=\"true\"><use xlink:href=\"#icon-yahoo\"></use></svg>雅虎</a></li>\n",
    "            <li><a rel=\"nofollow\" href=\"https://www.sogou.com/\" target=\"_blank\"><svg class=\"icon\" aria-hidden=\"true\"><use xlink:href=\"#icon-sougou\"></use></svg>搜狗</a></li>\n",
    "            <li><a rel=\"nofollow\" href=\"https://www.naver.com/\" target=\"_blank\"><svg class=\"icon\" aria-hidden=\"true\"><use xlink:href=\"#icon-icon-test\"></use></svg>NAVER</a></li>\n",
    "            <li><a rel=\"nofollow\" href=\"https://mijisou.com/\" target=\"_blank\"><svg class=\"icon\" aria-hidden=\"true\"><use xlink:href=\"#icon-miji\"></use></svg>秘迹</a></li>\n",
    "            <li><a rel=\"nofollow\" href=\"https://www.dogedoge.com/\" target=\"_blank\"><svg class=\"icon\" aria-hidden=\"true\"><use xlink:href=\"#icon-gougou\"></use></svg>多吉</a></li>\n",
    "            <li><a rel=\"nofollow\" href=\"https://seeres.com/\" target=\"_blank\"><svg class=\"icon\" aria-hidden=\"true\"><use xlink:href=\"#icon-sousuo\"></use></svg>seeres</a></li>\n",
    "            <!------>\n",
    "            <li class=\"title\"><svg class=\"icon\" aria-hidden=\"true\"><use xlink:href=\"#icon-ai-tool\"></use></svg> 工具</li>\n",
    "            <li><a rel=\"nofollow\" href=\"https://tools.miku.ac/\" target=\"_blank\"><svg class=\"icon\" aria-hidden=\"true\"><use xlink:href=\"#icon-ai-tool\"></use></svg>Miku工具</a></li>\n",
    "            <li><a rel=\"nofollow\" href=\"/ip/\" target=\"_blank\"><svg class=\"icon\" aria-hidden=\"true\"><use xlink:href=\"#icon-wangluo\"></use></svg>IP查询</a></li>\n",
    "            <li><a rel=\"nofollow\" href=\"https://translate.google.cn/?hl=zh-CN\" target=\"_blank\"><svg class=\"icon\" aria-hidden=\"true\"><use xlink:href=\"#icon-fanyi\"></use></svg>谷歌翻译</a></li>\n",
    "            <li><a rel=\"nofollow\" href=\"http://www.slimego.cn/\" target=\"_blank\"><svg class=\"icon\" aria-hidden=\"true\"><use xlink:href=\"#icon-shilaimu\"></use></svg>史莱姆</a></li>\n",
    "            <li><a rel=\"nofollow\" href=\"https://feedly.com\" target=\"_blank\"><svg class=\"icon\" aria-hidden=\"true\"><use xlink:href=\"#icon-feedly\"></use></svg>Feedly</a></li>         \n",
    "            <li><a rel=\"nofollow\" href=\"https://pan.baidu.com\" target=\"_blank\"><svg class=\"icon\" aria-hidden=\"true\"><use xlink:href=\"#icon-baiduyun\"></use></svg>百度网盘</a></li>\n",
    "            <li><a rel=\"nofollow\" href=\"http://www.mdeditor.com/\" target=\"_blank\"><svg class=\"icon\" aria-hidden=\"true\"><use xlink:href=\"#icon-md\"></use></svg>MD编辑器</a></li>\n",
    "            <li><a rel=\"nofollow\" href=\"http://cubic-bezier.com\" target=\"_blank\"><svg class=\"icon\" aria-hidden=\"true\"><use xlink:href=\"#icon-quxian\"></use></svg>贝赛尔曲线</a></li>\n",
    "            <li><a rel=\"nofollow\" href=\"/base64/\" target=\"_blank\"><svg class=\"icon\" aria-hidden=\"true\"><use xlink:href=\"#icon-base64\"></use></svg>Base64</a></li>\n",
    "            <li><a rel=\"nofollow\" href=\"https://javascriptobfuscator.com/Javascript-Obfuscator.aspx\" target=\"_blank\"><svg class=\"icon\" aria-hidden=\"true\"><use xlink:href=\"#icon-jshunxiao\"></use></svg>JS混淆器</a></li>\n",
    "            <li><a rel=\"nofollow\" href=\"https://ping.pe\" target=\"_blank\"><svg class=\"icon\" aria-hidden=\"true\"><use xlink:href=\"#icon-wangluo1\"></use></svg>Ping.pe</a></li>\n",
    "            <li><a rel=\"nofollow\" href=\"https://ping.chinaz.com/\" target=\"_blank\"><svg class=\"icon\" aria-hidden=\"true\"><use xlink:href=\"#icon-pingup\"></use></svg>站长Ping</a></li>\n",
    "            <li><a rel=\"nofollow\" href=\"https://apkdl.in/\" target=\"_blank\"><svg class=\"icon\" aria-hidden=\"true\"><use xlink:href=\"#icon-anzhuo\"></use></svg>APK下载</a></li>\n",
    "            <!------>\n",
    "            <li class=\"title\"><svg class=\"icon\" aria-hidden=\"true\"><use xlink:href=\"#icon-kongzhitai\"></use></svg> 开发</li>\n",
    "            <li><a rel=\"nofollow\" href=\"http://www.w3school.com.cn/\" target=\"_blank\"><svg class=\"icon\" aria-hidden=\"true\"><use xlink:href=\"#icon-h5\"></use></svg>W3school</a></li>\n",
    "            <li><a rel=\"nofollow\" href=\"https://github.com/\" target=\"_blank\"><svg class=\"icon\" aria-hidden=\"true\"><use xlink:href=\"#icon-github\"></use></svg>Github</a></li>\n",
    "            <li><a rel=\"nofollow\" href=\"https://codepen.io/\" target=\"_blank\"><svg class=\"icon\" aria-hidden=\"true\"><use xlink:href=\"#icon-codepen\"></use></svg>Codepen</a></li>\n",
    "            <li><a rel=\"nofollow\" href=\"https://www.52pojie.cn/\" target=\"_blank\"><svg class=\"icon\" aria-hidden=\"true\"><use xlink:href=\"#icon-theater-masks\"></use></svg>吾爱破解</a></li>\n",
    "            <li><a rel=\"nofollow\" href=\"https://segmentfault.com/\" target=\"_blank\"><svg class=\"icon\" aria-hidden=\"true\"><use xlink:href=\"#icon-msg\"></use></svg>SF思否</a></li>\n",
    "            <li><a rel=\"nofollow\" href=\"https://cdnjs.com/\" target=\"_blank\"><svg class=\"icon\" aria-hidden=\"true\"><use xlink:href=\"#icon-cdnjs\"></use></svg>CdnJs</a></li>\n",
    "            <li><a rel=\"nofollow\" href=\"https://fontawesome.com/icons?d=gallery&m=free\" target=\"_blank\"><svg class=\"icon\" aria-hidden=\"true\"><use xlink:href=\"#icon-font-awesome\"></use></svg>Font A.</a></li>\n",
    "            <li><a rel=\"nofollow\" href=\"https://msdn.itellyou.cn/\" target=\"_blank\"><svg class=\"icon\" aria-hidden=\"true\"><use xlink:href=\"#icon-windows\"></use></svg>MSDN下载</a></li>\n",
    "            <li><a rel=\"nofollow\" href=\"https://dash.cloudflare.com/\" target=\"_blank\"><svg class=\"icon\" aria-hidden=\"true\"><use xlink:href=\"#icon-cloudflare\"></use></svg>C. flare</a></li>\n",
    "            <li><a rel=\"nofollow\" href=\"https://www.swiper.com.cn/\" target=\"_blank\"><svg class=\"icon\" aria-hidden=\"true\"><use xlink:href=\"#icon-S\"></use></svg>Swiper</a></li>\n",
    "        </ul>\n",
    "\"\"\""
   ]
  },
  {
   "cell_type": "code",
   "execution_count": 5,
   "metadata": {},
   "outputs": [],
   "source": [
    "soup = BeautifulSoup(html, 'lxml')"
   ]
  },
  {
   "cell_type": "code",
   "execution_count": 43,
   "metadata": {},
   "outputs": [
    {
     "output_type": "stream",
     "name": "stdout",
     "text": [
      " 视频媒体\n 邮箱\n 社交资讯\n 购物\n 设计视觉\n 搜索引擎\n 工具\n 开发\n"
     ]
    }
   ],
   "source": [
    "for m in soup.findAll(class_='title'):\n",
    "    print(m.get_text())"
   ]
  },
  {
   "cell_type": "code",
   "execution_count": 61,
   "metadata": {},
   "outputs": [
    {
     "output_type": "stream",
     "name": "stdout",
     "text": [
      "{\nname: 'Youtube',\nurl: '//www.youtube.com/',\nicon: '#icon-youtube',\ncolor: 'primary'\n},\n{\nname: '腾讯视频',\nurl: '//v.qq.com/',\nicon: '#icon-tengxunshipin',\ncolor: 'primary'\n},\n{\nname: '优酷',\nurl: '//www.youku.com/',\nicon: '#icon-youku',\ncolor: 'primary'\n},\n{\nname: '爱奇艺',\nurl: '//www.iqiyi.com/',\nicon: '#icon-aiqiyi',\ncolor: 'primary'\n},\n{\nname: '字幕组',\nurl: '//www.zmz2019.com/',\nicon: '#icon-zimu',\ncolor: 'primary'\n},\n{\nname: 'ACFUN',\nurl: '//www.acfun.cn/index.html',\nicon: '#icon-acfun',\ncolor: 'primary'\n},\n{\nname: '哔哩哔哩',\nurl: '//www.bilibili.com/',\nicon: '#icon-bili',\ncolor: 'primary'\n},\n{\nname: 'Gmail',\nurl: '//mail.google.com/mail/u/0/#inbox',\nicon: '#icon-gmail',\ncolor: 'primary'\n},\n{\nname: 'Hotmail',\nurl: '//outlook.live.com/mail/',\nicon: '#icon-windows',\ncolor: 'primary'\n},\n{\nname: '网易邮箱',\nurl: '//mail.163.com/',\nicon: '#icon-wangyi',\ncolor: 'primary'\n},\n{\nname: '新浪邮箱',\nurl: '//mail.sina.com.cn/',\nicon: '#icon-xinlangwang',\ncolor: 'primary'\n},\n{\nname: 'QQ邮箱',\nurl: '//mail.qq.com/',\nicon: '#icon-QQ',\ncolor: 'primary'\n},\n{\nname: '阿里邮箱',\nurl: '//qiye.aliyun.com/',\nicon: '#icon-yunyouxiang',\ncolor: 'primary'\n},\n{\nname: '微博',\nurl: '//www.weibo.com',\nicon: '#icon-weibo',\ncolor: 'primary'\n},\n{\nname: '知乎',\nurl: '//www.zhihu.com/',\nicon: '#icon-zhihu',\ncolor: 'primary'\n},\n{\nname: '豆瓣',\nurl: '//www.douban.com/',\nicon: '#icon-douban',\ncolor: 'primary'\n},\n{\nname: '简书',\nurl: '//www.jianshu.com/',\nicon: '#icon-jianshu',\ncolor: 'primary'\n},\n{\nname: 'V2EX',\nurl: '//www.v2ex.com/',\nicon: '#icon-v2ex',\ncolor: 'primary'\n},\n{\nname: 'Instagram',\nurl: '//www.instagram.com',\nicon: '#icon-instagram',\ncolor: 'primary'\n},\n{\nname: 'Twitter',\nurl: '//www.twitter.com',\nicon: '#icon-twitter',\ncolor: 'primary'\n},\n{\nname: 'Facebook',\nurl: '//www.facebook.com',\nicon: '#icon-facebook',\ncolor: 'primary'\n},\n{\nname: '淘宝网',\nurl: '//www.taobao.com',\nicon: '#icon-taobao',\ncolor: 'primary'\n},\n{\nname: '聚划算',\nurl: '//dyartstyle.com/juhuasuan/',\nicon: '#icon-juhuasuan',\ncolor: 'primary'\n},\n{\nname: '淘宝特卖',\nurl: '//dyartstyle.com/temai/',\nicon: '#icon-temai',\ncolor: 'primary'\n},\n{\nname: '拼多多',\nurl: '//mobile.yangkeduo.com/duo_cms_mall.html?pid=8742514_71211367&cpsSign=CM_190605_8742514_71211367_92fdd9f7fb637fec599bf556f263ed1f&duoduo_type=2&launch_wx=1',\nicon: '#icon-99',\ncolor: 'primary'\n},\n{\nname: '京东',\nurl: '//www.jd.com',\nicon: '#icon-jingdong',\ncolor: 'primary'\n},\n{\nname: '苏宁易购',\nurl: '//www.suning.com/',\nicon: '#icon-suning',\ncolor: 'primary'\n},\n{\nname: '网易严选',\nurl: '//you.163.com/',\nicon: '#icon-yanxuan',\ncolor: 'primary'\n},\n{\nname: '亚马逊',\nurl: '//www.amazon.cn/',\nicon: '#icon-amazon',\ncolor: 'primary'\n},\n{\nname: '当当',\nurl: '//www.dangdang.com/',\nicon: '#icon-dangdang',\ncolor: 'primary'\n},\n{\nname: '吾爱淘',\nurl: '//wat.dyartstyle.com/',\nicon: '#icon-wat',\ncolor: 'primary'\n},\n{\nname: '设计导航',\nurl: '//web.yyv.me/',\nicon: '#icon-daohang1',\ncolor: 'primary'\n},\n{\nname: 'Pinterest',\nurl: '//www.pinterest.com/',\nicon: '#icon-pinterest',\ncolor: 'primary'\n},\n{\nname: 'Behance',\nurl: '//www.behance.net/',\nicon: '#icon-behance',\ncolor: 'primary'\n},\n{\nname: 'Dribbble',\nurl: '//www.dribbble.com/',\nicon: '#icon-dribbble',\ncolor: 'primary'\n},\n{\nname: '花瓣',\nurl: '//huaban.com/',\nicon: '#icon-huaban',\ncolor: 'primary'\n},\n{\nname: '站酷',\nurl: '//www.zcool.com.cn/',\nicon: '#icon-zhanku',\ncolor: 'primary'\n},\n{\nname: '阿里图标',\nurl: '//www.iconfont.cn/',\nicon: '#icon-iconfont',\ncolor: 'primary'\n},\n{\nname: 'IconFinder',\nurl: '//www.iconfinder.com/',\nicon: '#icon-eye',\ncolor: 'primary'\n},\n{\nname: '优设教程',\nurl: '//uiiiuiii.com/',\nicon: '#icon-jiaocheng',\ncolor: 'primary'\n},\n{\nname: 'Google',\nurl: '//www.google.com/',\nicon: '#icon-google',\ncolor: 'primary'\n},\n{\nname: 'DuckGo',\nurl: '//duckduckgo.com/',\nicon: '#icon-duck',\ncolor: 'primary'\n},\n{\nname: 'Bing',\nurl: '//www.bing.com/',\nicon: '#icon-bing',\ncolor: 'primary'\n},\n{\nname: '百度',\nurl: '/m.baidu.com/?pu=sz%401321_480&wpo=btmfast',\nicon: '#icon-icon_baidulogo',\ncolor: 'primary'\n},\n{\nname: '雅虎',\nurl: '//hk.yahoo.com/',\nicon: '#icon-yahoo',\ncolor: 'primary'\n},\n{\nname: '搜狗',\nurl: '//www.sogou.com/',\nicon: '#icon-sougou',\ncolor: 'primary'\n},\n{\nname: 'NAVER',\nurl: '//www.naver.com/',\nicon: '#icon-icon-test',\ncolor: 'primary'\n},\n{\nname: '秘迹',\nurl: '//mijisou.com/',\nicon: '#icon-miji',\ncolor: 'primary'\n},\n{\nname: '多吉',\nurl: '//www.dogedoge.com/',\nicon: '#icon-gougou',\ncolor: 'primary'\n},\n{\nname: 'seeres',\nurl: '//seeres.com/',\nicon: '#icon-sousuo',\ncolor: 'primary'\n},\n{\nname: 'Miku工具',\nurl: '//tools.miku.ac/',\nicon: '#icon-ai-tool',\ncolor: 'primary'\n},\n{\nname: '谷歌翻译',\nurl: '//translate.google.cn/?hl=zh-CN',\nicon: '#icon-fanyi',\ncolor: 'primary'\n},\n{\nname: '史莱姆',\nurl: '//www.slimego.cn/',\nicon: '#icon-shilaimu',\ncolor: 'primary'\n},\n{\nname: 'Feedly',\nurl: '//feedly.com',\nicon: '#icon-feedly',\ncolor: 'primary'\n},\n{\nname: '百度网盘',\nurl: '//pan.baidu.com',\nicon: '#icon-baiduyun',\ncolor: 'primary'\n},\n{\nname: 'MD编辑器',\nurl: '//www.mdeditor.com/',\nicon: '#icon-md',\ncolor: 'primary'\n},\n{\nname: '贝赛尔曲线',\nurl: '//cubic-bezier.com',\nicon: '#icon-quxian',\ncolor: 'primary'\n},\n{\nname: 'JS混淆器',\nurl: '//javascriptobfuscator.com/Javascript-Obfuscator.aspx',\nicon: '#icon-jshunxiao',\ncolor: 'primary'\n},\n{\nname: 'Ping.pe',\nurl: '//ping.pe',\nicon: '#icon-wangluo1',\ncolor: 'primary'\n},\n{\nname: '站长Ping',\nurl: '//ping.chinaz.com/',\nicon: '#icon-pingup',\ncolor: 'primary'\n},\n{\nname: 'APK下载',\nurl: '//apkdl.in/',\nicon: '#icon-anzhuo',\ncolor: 'primary'\n},\n{\nname: 'W3school',\nurl: '//www.w3school.com.cn/',\nicon: '#icon-h5',\ncolor: 'primary'\n},\n{\nname: 'Github',\nurl: '//github.com/',\nicon: '#icon-github',\ncolor: 'primary'\n},\n{\nname: 'Codepen',\nurl: '//codepen.io/',\nicon: '#icon-codepen',\ncolor: 'primary'\n},\n{\nname: '吾爱破解',\nurl: '//www.52pojie.cn/',\nicon: '#icon-theater-masks',\ncolor: 'primary'\n},\n{\nname: 'SF思否',\nurl: '//segmentfault.com/',\nicon: '#icon-msg',\ncolor: 'primary'\n},\n{\nname: 'CdnJs',\nurl: '//cdnjs.com/',\nicon: '#icon-cdnjs',\ncolor: 'primary'\n},\n{\nname: 'Font A.',\nurl: '//fontawesome.com/icons?d=gallery&m=free',\nicon: '#icon-font-awesome',\ncolor: 'primary'\n},\n{\nname: 'MSDN下载',\nurl: '//msdn.itellyou.cn/',\nicon: '#icon-windows',\ncolor: 'primary'\n},\n{\nname: 'C. flare',\nurl: '//dash.cloudflare.com/',\nicon: '#icon-cloudflare',\ncolor: 'primary'\n},\n{\nname: 'Swiper',\nurl: '//www.swiper.com.cn/',\nicon: '#icon-S',\ncolor: 'primary'\n},\n"
     ]
    }
   ],
   "source": [
    "for k in soup.find_all('a'):\n",
    "    for j in k.find_all('use'):\n",
    "        url = k['href'].split(':')\n",
    "        if len(url) > 1:\n",
    "            icon = j['xlink:href']\n",
    "            name = k.get_text().strip()\n",
    "            color = 'primary'\n",
    "            output = \"{\\nname: '\" + name + \"',\\nurl: '\"+ url[1] + \"',\\nicon: '\" + icon + \"',\\ncolor: '\" + color + \"'\\n},\"\n",
    "            print(output)"
   ]
  }
 ]
}
